{
  "nbformat": 4,
  "nbformat_minor": 0,
  "metadata": {
    "colab": {
      "provenance": []
    },
    "kernelspec": {
      "name": "python3",
      "display_name": "Python 3"
    },
    "language_info": {
      "name": "python"
    }
  },
  "cells": [
    {
      "cell_type": "code",
      "source": [
        "#LeetCode 225. Implement Stack using Queues\n",
        "\"\"\"\n",
        "문제설명:\n",
        "스택은 \"Last-In-First-Out\" 구조를 가진 자료구조입니다.\n",
        "이 문제에서는 큐(Queue)를 사용하여 스택을 구현해야 합니다.\n",
        "\"\"\"\n",
        "\n",
        "class MyStack:\n",
        "    def __init__(self):\n",
        "        self.q = []\n",
        "\n",
        "    def push(self, x):\n",
        "        self.q.append(x)\n",
        "        for _ in range(len(self.q) - 1):\n",
        "            self.q.append(self.q.pop(0))\n",
        "\n",
        "    def pop(self):\n",
        "        return self.q.pop(0)\n",
        "\n",
        "    def top(self):\n",
        "        return self.q[0]\n",
        "\n",
        "    def empty(self):\n",
        "        return len(self.q) == 0\n",
        "\n",
        "\"\"\"\n",
        "풀이 설명:\n",
        "- 이 코드는 큐 하나만 사용하여 스택을 구현합니다.\n",
        "- push 할 때마다 요소를 넣고, 앞에 있던 요소들을 뒤로 보냅니다.\n",
        "- 이렇게 하면 가장 마지막에 push한 값이 맨 앞에 오므로 pop과 top이 가능해집니다.\n",
        "\"\"\"\n",
        "\n"
      ],
      "metadata": {
        "colab": {
          "base_uri": "https://localhost:8080/",
          "height": 52
        },
        "id": "Vyun5ZMdDVlP",
        "outputId": "ef264484-a2dc-4c46-ef61-9ccc788d4a0c"
      },
      "execution_count": 1,
      "outputs": [
        {
          "output_type": "execute_result",
          "data": {
            "text/plain": [
              "'\\n풀이 설명:\\n- 이 코드는 큐 하나만 사용하여 스택을 구현합니다.\\n- push 할 때마다 요소를 넣고, 앞에 있던 요소들을 뒤로 보냅니다.\\n- 이렇게 하면 가장 마지막에 push한 값이 맨 앞에 오므로 pop과 top이 가능해집니다.\\n'"
            ],
            "application/vnd.google.colaboratory.intrinsic+json": {
              "type": "string"
            }
          },
          "metadata": {},
          "execution_count": 1
        }
      ]
    },
    {
      "cell_type": "code",
      "source": [
        "### LeetCode 232. Implement Queue using Stacks\n",
        "\"\"\"\n",
        "문제 설명:\n",
        "큐는 \"First-In-First-Out (FIFO)\" 구조를 가진 자료구조입니다.\n",
        "이 문제에서는 스택(Stack)을 사용하여 큐를 구현해야 합니다.\n",
        "\"\"\"\n",
        "class MyQueue:\n",
        "    def __init__(self):\n",
        "        self.stack1 = []\n",
        "        self.stack2 = []\n",
        "\n",
        "    def push(self, x):\n",
        "        self.stack1.append(x)\n",
        "\n",
        "    def pop(self):\n",
        "        self.peek()\n",
        "        return self.stack2.pop()\n",
        "\n",
        "    def peek(self):\n",
        "        if not self.stack2:\n",
        "            while self.stack1:\n",
        "                self.stack2.append(self.stack1.pop())\n",
        "        return self.stack2[-1]\n",
        "\n",
        "    def empty(self):\n",
        "        return not self.stack1 and not self.stack2\n",
        "\n",
        "\"\"\"\n",
        "풀이 설명:\n",
        "- 이 코드는 스택 두 개를 사용하여 큐를 구현합니다.\n",
        "- push 시 stack1에 넣고, pop 또는 peek 시 stack2로 옮겨서 앞쪽 값부터 접근하게 합니다.\n",
        "- stack2가 비어있을 때만 옮기므로 효율적으로 작동합니다.\n",
        "\"\"\"\n"
      ],
      "metadata": {
        "colab": {
          "base_uri": "https://localhost:8080/",
          "height": 52
        },
        "id": "9CDkWbsUCZN3",
        "outputId": "17a79e8c-a9c9-4b63-f095-3ff7525a019d"
      },
      "execution_count": 2,
      "outputs": [
        {
          "output_type": "execute_result",
          "data": {
            "text/plain": [
              "'\\n풀이 설명:\\n- 이 코드는 스택 두 개를 사용하여 큐를 구현합니다.\\n- push 시 stack1에 넣고, pop 또는 peek 시 stack2로 옮겨서 앞쪽 값부터 접근하게 합니다.\\n- stack2가 비어있을 때만 옮기므로 효율적으로 작동합니다.\\n'"
            ],
            "application/vnd.google.colaboratory.intrinsic+json": {
              "type": "string"
            }
          },
          "metadata": {},
          "execution_count": 2
        }
      ]
    },
    {
      "cell_type": "markdown",
      "source": [
        "### 교재 큐 문제 답"
      ],
      "metadata": {
        "id": "0P1ErL0kKX6a"
      }
    },
    {
      "cell_type": "markdown",
      "source": [],
      "metadata": {
        "id": "tlUyVCdYI0dR"
      }
    },
    {
      "cell_type": "code",
      "source": [
        "### 교재 큐 문제\n",
        "\n",
        "#1번\n",
        "\n",
        "class ListQueue:\n",
        "    def __init__(self):\n",
        "        self.__queue = []\n",
        "\n",
        "    def enqueue(self, item):\n",
        "        self.__queue.insert(0, item)\n",
        "\n",
        "    def dequeue(self):\n",
        "        if self.is_empty():\n",
        "            return None\n",
        "        return self.__queue.pop()\n",
        "\n",
        "    def front(self):\n",
        "        if self.is_empty():\n",
        "            return None\n",
        "        return self.__queue[-1]\n",
        "\n",
        "    def is_empty(self) -> bool:\n",
        "        return len(self.__queue) == 0\n",
        "\n",
        "    def dequeue_all(self):\n",
        "        self.__queue.clear()"
      ],
      "metadata": {
        "id": "KzejSS6qI1DV"
      },
      "execution_count": 5,
      "outputs": []
    },
    {
      "cell_type": "code",
      "source": [
        "#2번\n",
        "def is_in_set(string: str) -> bool:\n",
        "    q = ListQueue()\n",
        "    index = 0\n",
        "    while string[index] != '$':\n",
        "        q.enqueue(string[index])\n",
        "        index += 1\n",
        "    index += 1\n",
        "    while index < len(string):\n",
        "        if q.dequeue() != string[index]:\n",
        "            return False\n",
        "        index += 1\n",
        "    return True"
      ],
      "metadata": {
        "id": "mIwktZcIKFD1"
      },
      "execution_count": 6,
      "outputs": []
    },
    {
      "cell_type": "code",
      "source": [
        "#3번\n",
        "def copy_linked_queue(a: LinkedQueue, b: LinkedQueue):\n",
        "    b.dequeue_all()\n",
        "    temp_queue = LinkedQueue()\n",
        "\n",
        "    # a에서 temp_queue로 복사\n",
        "    while not a.is_empty():\n",
        "        item = a.dequeue()\n",
        "        temp_queue.enqueue(item)\n",
        "\n",
        "    # temp_queue에서 다시 a와 b로 복원 및 복사\n",
        "    while not temp_queue.is_empty():\n",
        "        item = temp_queue.dequeue()\n",
        "        a.enqueue(item)\n",
        "        b.enqueue(item)"
      ],
      "metadata": {
        "id": "r4fcKv-3KVKW"
      },
      "execution_count": null,
      "outputs": []
    },
    {
      "cell_type": "code",
      "source": [
        "#4번\n",
        "def push(q1: list, q2: list, item):\n",
        "    q2.clear()\n",
        "    while q1:\n",
        "        q2.append(q1.pop(0))\n",
        "    q1.append(item)\n",
        "    while q2:\n",
        "        q1.append(q2.pop(0))\n",
        "\n",
        "def pop(q1: list, q2: list):\n",
        "    if q1:\n",
        "        return q1.pop(0)\n",
        "    else:\n",
        "        return None"
      ],
      "metadata": {
        "id": "TCyIWHeBK7N3"
      },
      "execution_count": 8,
      "outputs": []
    },
    {
      "cell_type": "code",
      "source": [
        "#5번\n",
        "def enqueue(s1, s2, item):\n",
        "    s2.clear()\n",
        "    while s1:\n",
        "        s2.append(s1.pop())\n",
        "    s1.append(item)\n",
        "    while s2:\n",
        "        s1.append(s2.pop())\n",
        "\n",
        "def dequeue(s1, s2):\n",
        "    s2.clear()\n",
        "    while s1:\n",
        "        s2.append(s1.pop())\n",
        "    ret_item = s2.pop()\n",
        "    while s2:\n",
        "        s1.append(s2.pop())\n",
        "    return ret_item"
      ],
      "metadata": {
        "id": "TwbKTxeeLXL-"
      },
      "execution_count": 10,
      "outputs": []
    },
    {
      "cell_type": "code",
      "source": [
        "#6번\n",
        "\"\"\"\n",
        "구현하고자 하는 Deque는 단방향원형리스트를 기반으로 한다.\n",
        "또한, 이 Deque의 front는 리스트의 맨 앞이며 tail은 리스트의 맨 끝으로 한다.\n",
        "enqueue()의 수행시간은 Deque의 front에서 수행할 시 Θ(1),\n",
        " Deque의 tail에서 수행할 시 Θ(1)이다. 따라서 수행 위치에 상관없이 enqueue()의 수행 시간은 Θ(1)이다.\n",
        "dequeue()의 수행시간은 Deque의 front에서 수행할 시 Θ(1),\n",
        "Deque의 tail에서 수행할 시 Θ(1)이다. 따라서 수행 위치에 상관없이 dequeue()의 수행 시간은 Θ(1)이다.\n",
        "\n",
        "\"\"\""
      ],
      "metadata": {
        "id": "Hyb75o28L7tg"
      },
      "execution_count": null,
      "outputs": []
    },
    {
      "cell_type": "code",
      "source": [
        "#7번\n",
        "\"\"\"\n",
        "구현하고자 하는 Deque는 단방향리스트를 기반으로 한다.\n",
        "또한, 이 Deque의 front는 리스트의 맨 앞이며 tail은 리스트의 맨 끝으로 한다.\n",
        "enqueue()의 수행시간은 Deque의 front에서 수행할 시 Θ(1),\n",
        "Deque의 tail에서 수행할 시 Θ(n)이다. 따라서 enqueue()의 수행 시간은 최악의 경우를 고려해 Θ(n)이다.\n",
        "dequeue()의 수행시간은 Deque의 front에서 수행할 시 Θ(1),\n",
        "Deque의 tail에서 수행할 시 Θ(n)이다. 따라서 dequeue()의 수행 시간은 최악의 경우를 고려해 Θ(n)이다.\n",
        "\n",
        "\"\"\""
      ],
      "metadata": {
        "id": "DuVplL_oMZAb"
      },
      "execution_count": null,
      "outputs": []
    },
    {
      "cell_type": "code",
      "source": [
        "#8번\n",
        "class ListDeque:\n",
        "    def __init__(self):\n",
        "        self.__queue = []\n",
        "\n",
        "    def enqueue(self, item):\n",
        "        self.__queue.append(item)\n",
        "\n",
        "    def dequeue(self):\n",
        "        return self.__queue.pop(0)\n",
        "\n",
        "    def push(self, item):\n",
        "        self.__queue.insert(0, item)\n",
        "\n",
        "    def pop(self):\n",
        "        return self.__queue.pop(len(self.__queue) - 1)\n",
        "\n",
        "    def front(self):\n",
        "        if self.is_empty():\n",
        "            return None\n",
        "        else:\n",
        "            return self.__queue[0]\n",
        "\n",
        "    def rear(self):\n",
        "        if self.is_empty():\n",
        "            return None\n",
        "        else:\n",
        "            return self.__queue[len(self.__queue) - 1]\n",
        "\n",
        "    def is_empty(self):\n",
        "        return not bool(self.__queue)\n",
        "\n",
        "    def deque_all(self):\n",
        "        self.__queue.clear()\n",
        "\n",
        "    def print_deque(self):\n",
        "        print(\"Dequeue from front:\", end=' ')\n",
        "        for index in range(len(self.__queue)):\n",
        "            print(self.__queue[index], end=' ')\n",
        "        print()\n"
      ],
      "metadata": {
        "id": "OjKBP2jNMocM"
      },
      "execution_count": 11,
      "outputs": []
    }
  ]
}